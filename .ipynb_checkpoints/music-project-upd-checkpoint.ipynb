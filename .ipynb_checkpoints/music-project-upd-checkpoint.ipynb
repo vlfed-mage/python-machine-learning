{
 "cells": [
  {
   "cell_type": "code",
   "execution_count": 11,
   "id": "07a0d789",
   "metadata": {},
   "outputs": [
    {
     "ename": "NameError",
     "evalue": "name 'sorded' is not defined",
     "output_type": "error",
     "traceback": [
      "\u001b[0;31m---------------------------------------------------------------------------\u001b[0m",
      "\u001b[0;31mNameError\u001b[0m                                 Traceback (most recent call last)",
      "Cell \u001b[0;32mIn[11], line 22\u001b[0m\n\u001b[1;32m     11\u001b[0m model\u001b[38;5;241m.\u001b[39mfit(X, y)\n\u001b[1;32m     13\u001b[0m \u001b[38;5;66;03m# joblib.dump(model, 'music-recommender.joblib')\u001b[39;00m\n\u001b[1;32m     14\u001b[0m \u001b[38;5;66;03m# model = joblib.load('music-recommender.joblib')\u001b[39;00m\n\u001b[1;32m     15\u001b[0m \n\u001b[1;32m     16\u001b[0m \u001b[38;5;66;03m# predictions = model.predict([ [21, 1] ])\u001b[39;00m\n\u001b[1;32m     18\u001b[0m tree\u001b[38;5;241m.\u001b[39mexport_graphviz(\n\u001b[1;32m     19\u001b[0m     model, \n\u001b[1;32m     20\u001b[0m     out_file\u001b[38;5;241m=\u001b[39m\u001b[38;5;124m'\u001b[39m\u001b[38;5;124mmusic-recommender.dot\u001b[39m\u001b[38;5;124m'\u001b[39m, \n\u001b[1;32m     21\u001b[0m     feature_names\u001b[38;5;241m=\u001b[39m[\u001b[38;5;124m'\u001b[39m\u001b[38;5;124mage\u001b[39m\u001b[38;5;124m'\u001b[39m, \u001b[38;5;124m'\u001b[39m\u001b[38;5;124mgender\u001b[39m\u001b[38;5;124m'\u001b[39m], \n\u001b[0;32m---> 22\u001b[0m     class_names\u001b[38;5;241m=\u001b[39m\u001b[43msorded\u001b[49m(y\u001b[38;5;241m.\u001b[39munique()),\n\u001b[1;32m     23\u001b[0m     label\u001b[38;5;241m=\u001b[39m\u001b[38;5;124m'\u001b[39m\u001b[38;5;124mall\u001b[39m\u001b[38;5;124m'\u001b[39m,\n\u001b[1;32m     24\u001b[0m     rounded\u001b[38;5;241m=\u001b[39m\u001b[38;5;28;01mTrue\u001b[39;00m,\n\u001b[1;32m     25\u001b[0m     filled\u001b[38;5;241m=\u001b[39m\u001b[38;5;28;01mTrue\u001b[39;00m\n\u001b[1;32m     26\u001b[0m )\n",
      "\u001b[0;31mNameError\u001b[0m: name 'sorded' is not defined"
     ]
    }
   ],
   "source": [
    "import pandas as pd\n",
    "from sklearn.tree import DecisionTreeClassifier\n",
    "# import joblib\n",
    "from sklearn import tree\n",
    "\n",
    "music_data = pd.read_csv('music.csv')\n",
    "X = music_data.drop(columns=['genre'])\n",
    "y = music_data['genre']\n",
    "\n",
    "model = DecisionTreeClassifier()\n",
    "model.fit(X, y)\n",
    "\n",
    "# joblib.dump(model, 'music-recommender.joblib')\n",
    "# model = joblib.load('music-recommender.joblib')\n",
    "\n",
    "# predictions = model.predict([ [21, 1] ])\n",
    "\n",
    "tree.export_graphviz(\n",
    "    model, \n",
    "    out_file='music-recommender.dot', \n",
    "    feature_names=['age', 'gender'], \n",
    "    class_names=sorted(y.unique()),\n",
    "    label='all',\n",
    "    rounded=True,\n",
    "    filled=True\n",
    ")\n"
   ]
  }
 ],
 "metadata": {
  "kernelspec": {
   "display_name": "Python 3 (ipykernel)",
   "language": "python",
   "name": "python3"
  },
  "language_info": {
   "codemirror_mode": {
    "name": "ipython",
    "version": 3
   },
   "file_extension": ".py",
   "mimetype": "text/x-python",
   "name": "python",
   "nbconvert_exporter": "python",
   "pygments_lexer": "ipython3",
   "version": "3.10.12"
  }
 },
 "nbformat": 4,
 "nbformat_minor": 5
}
